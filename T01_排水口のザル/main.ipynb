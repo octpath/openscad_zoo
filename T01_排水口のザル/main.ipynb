{
 "cells": [
  {
   "cell_type": "code",
   "execution_count": 102,
   "metadata": {},
   "outputs": [],
   "source": [
    "import math\n",
    "\n",
    "from jupyterscad import view\n",
    "from solid2 import cube, cylinder, rotate, translate"
   ]
  },
  {
   "cell_type": "code",
   "execution_count": 153,
   "metadata": {},
   "outputs": [],
   "source": [
    "fn = 360"
   ]
  },
  {
   "cell_type": "code",
   "execution_count": 12,
   "metadata": {},
   "outputs": [],
   "source": [
    "def make_cube(x: float, y: float, z: float):\n",
    "    obj = cube(size=[x, y, z], center=True)\n",
    "    obj = translate([0, 0, z / 2])(obj)\n",
    "    return obj"
   ]
  },
  {
   "cell_type": "code",
   "execution_count": 141,
   "metadata": {},
   "outputs": [],
   "source": [
    "def make_zaru_(height: float, width: float, thickness: float, zaru_width: float, slit_width: float):\n",
    "    num_zaru = int(width // (slit_width + zaru_width))\n",
    "    num_slit = int(math.ceil(width / (slit_width + zaru_width)))\n",
    "\n",
    "    obj = None\n",
    "    for n in range(num_zaru + 1):\n",
    "        obj_ = make_cube(zaru_width, height, thickness)\n",
    "        obj_ = translate([zaru_width / 2 + n * zaru_width + (n) * slit_width, 0, 0])(obj_)\n",
    "        obj = obj + obj_ if obj is not None else obj_\n",
    "    if num_zaru == num_slit:\n",
    "        obj = translate([slit_width / 2 - width / 2, 0, 0])(obj)\n",
    "    else:\n",
    "        obj = translate([slit_width - width / 2, 0, 0])(obj)\n",
    "\n",
    "    obj = obj * make_cube(width, height, thickness)\n",
    "    return obj\n",
    "\n",
    "\n",
    "def make_zaru(height: float, width: float, thickness: float, zaru_width: float, slit_width: float):\n",
    "    obj = make_zaru_(height, width, thickness, zaru_width, slit_width)\n",
    "    obj = obj + translate([0, 0, thickness])(\n",
    "        rotate([0, 0, 90])(make_zaru_(width, height, thickness, zaru_width, slit_width))\n",
    "    )\n",
    "    return obj"
   ]
  },
  {
   "cell_type": "code",
   "execution_count": 155,
   "metadata": {},
   "outputs": [
    {
     "data": {
      "application/vnd.jupyter.widget-view+json": {
       "model_id": "c102aaa596c94a599a346138c2e1da90",
       "version_major": 2,
       "version_minor": 0
      },
      "text/plain": [
       "Renderer(camera=PerspectiveCamera(children=(DirectionalLight(color='white', intensity=0.7, position=(3.0, 5.0,…"
      ]
     },
     "execution_count": 155,
     "metadata": {},
     "output_type": "execute_result"
    }
   ],
   "source": [
    "base_thickness = 1.0\n",
    "pipe_radius = 15.0\n",
    "outer_radius = 26.0\n",
    "height = 12.0\n",
    "\n",
    "main_obj = cylinder(h=base_thickness, r=outer_radius, _fn=fn)\n",
    "\n",
    "pipe_cylinder = cylinder(h=height, r=pipe_radius, _fn=fn)\n",
    "main_obj = main_obj + pipe_cylinder\n",
    "\n",
    "minus_cylinder = cylinder(h=height, r=pipe_radius - base_thickness, _fn=fn)\n",
    "main_obj = main_obj - minus_cylinder\n",
    "\n",
    "main_obj = main_obj + pipe_cylinder * translate([0, 0, height - base_thickness])(\n",
    "    make_zaru(2 * pipe_radius, 2 * pipe_radius, base_thickness / 2, base_thickness, base_thickness)\n",
    ")\n",
    "\n",
    "view(main_obj)"
   ]
  }
 ],
 "metadata": {
  "kernelspec": {
   "display_name": "base",
   "language": "python",
   "name": "python3"
  },
  "language_info": {
   "codemirror_mode": {
    "name": "ipython",
    "version": 3
   },
   "file_extension": ".py",
   "mimetype": "text/x-python",
   "name": "python",
   "nbconvert_exporter": "python",
   "pygments_lexer": "ipython3",
   "version": "3.12.4"
  }
 },
 "nbformat": 4,
 "nbformat_minor": 2
}
