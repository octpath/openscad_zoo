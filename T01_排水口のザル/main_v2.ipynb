{
 "cells": [
  {
   "cell_type": "code",
   "execution_count": 1,
   "metadata": {},
   "outputs": [],
   "source": [
    "import math\n",
    "\n",
    "from jupyterscad import view\n",
    "from solid2 import cube, cylinder, rotate, scad_render_to_file, translate"
   ]
  },
  {
   "cell_type": "code",
   "execution_count": 3,
   "metadata": {},
   "outputs": [],
   "source": [
    "def make_cube(x: float, y: float, z: float):\n",
    "    obj = cube(size=[x, y, z], center=True)\n",
    "    obj = translate([0, 0, z / 2])(obj)\n",
    "    return obj"
   ]
  },
  {
   "cell_type": "code",
   "execution_count": 37,
   "metadata": {},
   "outputs": [
    {
     "data": {
      "application/vnd.jupyter.widget-view+json": {
       "model_id": "aef4809fdf1249f8bcad8048b76c6b97",
       "version_major": 2,
       "version_minor": 0
      },
      "text/plain": [
       "Renderer(camera=PerspectiveCamera(children=(DirectionalLight(color='white', intensity=0.7, position=(3.0, 5.0,…"
      ]
     },
     "execution_count": 37,
     "metadata": {},
     "output_type": "execute_result"
    }
   ],
   "source": [
    "fn = 360\n",
    "\n",
    "base_thickness = 0.6\n",
    "slit_width = 2.0\n",
    "pipe_radius = 16.0\n",
    "height = base_thickness * 3\n",
    "\n",
    "tube = cylinder(h=height, r=pipe_radius, _fn=fn) - cylinder(h=height, r=pipe_radius - base_thickness, _fn=fn)\n",
    "\n",
    "cnt = 1\n",
    "while True:\n",
    "    r = pipe_radius - slit_width * cnt\n",
    "    if r - base_thickness < 0:\n",
    "        break\n",
    "    ring = cylinder(h=base_thickness, r=r, _fn=fn) - cylinder(h=base_thickness, r=r - base_thickness, _fn=fn)\n",
    "    tube = tube + ring\n",
    "    cnt += 1\n",
    "\n",
    "bar = make_cube(2 * pipe_radius, base_thickness, base_thickness)\n",
    "bar = bar + rotate([0, 0, 90])(make_cube(2 * pipe_radius, base_thickness, base_thickness))\n",
    "bar = bar * cylinder(h=height, r=pipe_radius, _fn=fn)\n",
    "tube = tube + translate([0, 0, base_thickness])(bar)\n",
    "\n",
    "tube = tube + cylinder(h=height*3, r=base_thickness, _fn=fn)\n",
    "\n",
    "view(tube)"
   ]
  },
  {
   "cell_type": "code",
   "execution_count": 38,
   "metadata": {},
   "outputs": [
    {
     "data": {
      "text/plain": [
       "'/workspace/openscad_zoo/T01_排水口のザル/senmen_tube.scad'"
      ]
     },
     "execution_count": 38,
     "metadata": {},
     "output_type": "execute_result"
    }
   ],
   "source": [
    "scad_render_to_file(tube, \"senmen_tube.scad\")"
   ]
  },
  {
   "cell_type": "code",
   "execution_count": null,
   "metadata": {},
   "outputs": [],
   "source": []
  }
 ],
 "metadata": {
  "kernelspec": {
   "display_name": "base",
   "language": "python",
   "name": "python3"
  },
  "language_info": {
   "codemirror_mode": {
    "name": "ipython",
    "version": 3
   },
   "file_extension": ".py",
   "mimetype": "text/x-python",
   "name": "python",
   "nbconvert_exporter": "python",
   "pygments_lexer": "ipython3",
   "version": "3.12.4"
  }
 },
 "nbformat": 4,
 "nbformat_minor": 2
}
