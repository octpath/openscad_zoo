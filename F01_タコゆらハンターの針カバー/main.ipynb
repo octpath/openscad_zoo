{
 "cells": [
  {
   "cell_type": "code",
   "execution_count": 1,
   "metadata": {},
   "outputs": [],
   "source": [
    "from jupyterscad import view\n",
    "from solid2 import cube, cylinder, rotate, scad_render_to_file, translate"
   ]
  },
  {
   "cell_type": "code",
   "execution_count": 2,
   "metadata": {},
   "outputs": [],
   "source": [
    "fn = 360"
   ]
  },
  {
   "cell_type": "code",
   "execution_count": 3,
   "metadata": {},
   "outputs": [
    {
     "data": {
      "application/vnd.jupyter.widget-view+json": {
       "model_id": "203e3eb7609c4242839a8ca9b8c39c8f",
       "version_major": 2,
       "version_minor": 0
      },
      "text/plain": [
       "Renderer(camera=PerspectiveCamera(children=(DirectionalLight(color='white', intensity=0.7, position=(3.0, 5.0,…"
      ]
     },
     "execution_count": 3,
     "metadata": {},
     "output_type": "execute_result"
    }
   ],
   "source": [
    "pole_height = 12\n",
    "pole_thickness = 0.6\n",
    "hari_w1 = 1.15\n",
    "hari_w2 = 0.2\n",
    "atama_r1 = hari_w2 + pole_thickness\n",
    "atama_r2 = hari_w1 + pole_thickness\n",
    "atama_h = pole_height * 0.2\n",
    "\n",
    "pole = cylinder(h=pole_height, r1=hari_w1 + pole_thickness, r2=hari_w2 + pole_thickness, _fn=fn)\n",
    "pole = pole + translate([0, 0, pole_height - atama_h])(cylinder(h=atama_h, r1=atama_r1, r2=atama_r2, _fn=fn))\n",
    "pole = pole - cylinder(h=pole_height - pole_thickness, r1=hari_w1, r2=hari_w2, _fn=fn)\n",
    "\n",
    "view(pole)"
   ]
  },
  {
   "cell_type": "code",
   "execution_count": 4,
   "metadata": {},
   "outputs": [
    {
     "data": {
      "application/vnd.jupyter.widget-view+json": {
       "model_id": "bd85c9d682f44d538c243175f10bdd31",
       "version_major": 2,
       "version_minor": 0
      },
      "text/plain": [
       "Renderer(camera=PerspectiveCamera(children=(DirectionalLight(color='white', intensity=0.7, position=(3.0, 5.0,…"
      ]
     },
     "execution_count": 4,
     "metadata": {},
     "output_type": "execute_result"
    }
   ],
   "source": [
    "height = 0.4\n",
    "r1 = 15\n",
    "r2 = 16.6\n",
    "r3 = 25\n",
    "bar_w = 1.6\n",
    "\n",
    "ring1 = cylinder(h=height, r=r2)\n",
    "ring2 = cylinder(h=height, r=r1)\n",
    "\n",
    "bar = translate([-r3, -bar_w / 2])(cube([2 * r3, bar_w, height]))\n",
    "bar = bar + rotate([0, 0, 60])(bar) + rotate([0, 0, 120])(bar)\n",
    "\n",
    "ring = ring1 + bar - ring2\n",
    "\n",
    "view(ring)"
   ]
  },
  {
   "cell_type": "code",
   "execution_count": 5,
   "metadata": {},
   "outputs": [
    {
     "data": {
      "application/vnd.jupyter.widget-view+json": {
       "model_id": "4926d20e86974539b954af1f7fdfbc77",
       "version_major": 2,
       "version_minor": 0
      },
      "text/plain": [
       "Renderer(camera=PerspectiveCamera(children=(DirectionalLight(color='white', intensity=0.7, position=(3.0, 5.0,…"
      ]
     },
     "execution_count": 5,
     "metadata": {},
     "output_type": "execute_result"
    }
   ],
   "source": [
    "poles = translate([r3 + hari_w1, 0, 0])(pole) + translate([-(r3 + hari_w1), 0, 0])(pole)\n",
    "poles = poles + rotate([0, 0, 60])(poles) + rotate([0, 0, 120])(poles)\n",
    "\n",
    "obj = ring + poles\n",
    "view(obj)"
   ]
  },
  {
   "cell_type": "code",
   "execution_count": null,
   "metadata": {},
   "outputs": [],
   "source": []
  },
  {
   "cell_type": "code",
   "execution_count": 6,
   "metadata": {},
   "outputs": [
    {
     "data": {
      "text/plain": [
       "'/workspace/openscad_zoo/F01_タコゆらハンターの針カバー/takoyura_cover.scad'"
      ]
     },
     "execution_count": 6,
     "metadata": {},
     "output_type": "execute_result"
    }
   ],
   "source": [
    "scad_render_to_file(obj, filename=\"takoyura_cover.scad\")"
   ]
  },
  {
   "cell_type": "code",
   "execution_count": 7,
   "metadata": {},
   "outputs": [
    {
     "name": "stdout",
     "output_type": "stream",
     "text": [
      "Geometries in cache: 10\n",
      "Geometry cache size in bytes: 288944\n",
      "CGAL Polyhedrons in cache: 10\n",
      "CGAL cache size in bytes: 60064112\n",
      "Total rendering time: 0:01:13.533\n",
      "   Top level object is a 3D object:\n",
      "   Simple:        yes\n",
      "   Vertices:    13452\n",
      "   Halfedges:   52884\n",
      "   Edges:       26442\n",
      "   Halffacets:  25996\n",
      "   Facets:      12998\n",
      "   Volumes:         2\n"
     ]
    }
   ],
   "source": [
    "!openscad -o takoyura_cover.stl takoyura_cover.scad"
   ]
  },
  {
   "cell_type": "code",
   "execution_count": null,
   "metadata": {},
   "outputs": [],
   "source": []
  }
 ],
 "metadata": {
  "kernelspec": {
   "display_name": "base",
   "language": "python",
   "name": "python3"
  },
  "language_info": {
   "codemirror_mode": {
    "name": "ipython",
    "version": 3
   },
   "file_extension": ".py",
   "mimetype": "text/x-python",
   "name": "python",
   "nbconvert_exporter": "python",
   "pygments_lexer": "ipython3",
   "version": "3.12.4"
  }
 },
 "nbformat": 4,
 "nbformat_minor": 2
}
